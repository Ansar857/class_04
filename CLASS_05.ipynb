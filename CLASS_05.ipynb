{
 "cells": [
  {
   "cell_type": "code",
   "execution_count": 1,
   "metadata": {},
   "outputs": [],
   "source": [
    "class car():   \n",
    "        def __init__(self, make, name, year,):\n",
    "            self.make = make\n",
    "            self.name =name\n",
    "            self.year = year\n",
    "            self.reading = 0\n",
    "        def get_descriptive_name(self):\n",
    "            long_name ='this car was made in year '+ str(self.year) + ' and  this is a ' + self.make + ' ' + self.name\n",
    "            return long_name.title()\n",
    "        def odometer_reading(self):\n",
    "            print(\"this car has \" + str(self.reading) + \" miles on it\")\n",
    "        def update_odometer_reading(self,odometer_reading):\n",
    "            self.reading = odometer_reading"
   ]
  },
  {
   "cell_type": "code",
   "execution_count": 37,
   "metadata": {},
   "outputs": [],
   "source": [
    "class Battery():\n",
    "    def __init__(self,battery_size = 50):\n",
    "        self.battery_size = battery_size\n",
    "    def describe_battery(self):\n",
    "        print(\"this car has a \" + str(self.battery_size)+ \" -kwh battery on it\")\n",
    "    def get_range(self):\n",
    "        if self.battery_size <= 70:            \n",
    "            Range = 240        \n",
    "        elif self.battery_size >= 85:            \n",
    "            Range = 270                    \n",
    "        message = \"This car can go approximately \" + str(Range)     \n",
    "        message += \" miles on a full charge.\"        \n",
    "        print(message) \n",
    "    def update_battery_size(self,size):\n",
    "        self.battery_size = size\n",
    "        print(\"your update battery size is \"+ str(self.battery_size))"
   ]
  },
  {
   "cell_type": "code",
   "execution_count": 38,
   "metadata": {},
   "outputs": [],
   "source": [
    "class electric_car(car):\n",
    "    def __init__(self,make,name,year):\n",
    "        super().__init__(make,name,year)\n",
    "        self.battery =Battery()\n",
    "    def fuel_tank(self):\n",
    "        print(\"This car has no need of fuel tank\")"
   ]
  },
  {
   "cell_type": "code",
   "execution_count": 39,
   "metadata": {},
   "outputs": [],
   "source": [
    "electric_car_01 = electric_car(\"toyota\",\"aqua\",'2018')"
   ]
  },
  {
   "cell_type": "code",
   "execution_count": 40,
   "metadata": {},
   "outputs": [
    {
     "name": "stdout",
     "output_type": "stream",
     "text": [
      "this car has a 50 -kwh battery on it\n"
     ]
    }
   ],
   "source": [
    "electric_car_01.battery.describe_battery()"
   ]
  },
  {
   "cell_type": "code",
   "execution_count": 41,
   "metadata": {},
   "outputs": [
    {
     "name": "stdout",
     "output_type": "stream",
     "text": [
      "This car can go approximately 240 miles on a full charge.\n"
     ]
    }
   ],
   "source": [
    "electric_car_01.battery.get_range()"
   ]
  },
  {
   "cell_type": "code",
   "execution_count": 42,
   "metadata": {},
   "outputs": [
    {
     "name": "stdout",
     "output_type": "stream",
     "text": [
      "your update battery size is 100\n"
     ]
    }
   ],
   "source": [
    "electric_car_01.battery.update_battery_size(100)"
   ]
  },
  {
   "cell_type": "code",
   "execution_count": 30,
   "metadata": {},
   "outputs": [
    {
     "data": {
      "text/plain": [
       "100"
      ]
     },
     "execution_count": 30,
     "metadata": {},
     "output_type": "execute_result"
    }
   ],
   "source": [
    "electric_car_01.battery.battery_size"
   ]
  },
  {
   "cell_type": "code",
   "execution_count": 43,
   "metadata": {},
   "outputs": [
    {
     "name": "stdout",
     "output_type": "stream",
     "text": [
      "this car has a 100 -kwh battery on it\n"
     ]
    }
   ],
   "source": [
    "electric_car_01.battery.describe_battery()"
   ]
  },
  {
   "cell_type": "code",
   "execution_count": 44,
   "metadata": {},
   "outputs": [
    {
     "name": "stdout",
     "output_type": "stream",
     "text": [
      "This car can go approximately 270 miles on a full charge.\n"
     ]
    }
   ],
   "source": [
    "electric_car_01.battery.get_range()"
   ]
  },
  {
   "cell_type": "code",
   "execution_count": null,
   "metadata": {},
   "outputs": [],
   "source": []
  }
 ],
 "metadata": {
  "kernelspec": {
   "display_name": "Python 3",
   "language": "python",
   "name": "python3"
  },
  "language_info": {
   "codemirror_mode": {
    "name": "ipython",
    "version": 3
   },
   "file_extension": ".py",
   "mimetype": "text/x-python",
   "name": "python",
   "nbconvert_exporter": "python",
   "pygments_lexer": "ipython3",
   "version": "3.7.6"
  }
 },
 "nbformat": 4,
 "nbformat_minor": 4
}
