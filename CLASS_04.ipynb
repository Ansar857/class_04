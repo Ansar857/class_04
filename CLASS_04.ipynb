{
 "cells": [
  {
   "cell_type": "markdown",
   "metadata": {},
   "source": [
    "# CLASS_04"
   ]
  },
  {
   "cell_type": "code",
   "execution_count": 11,
   "metadata": {},
   "outputs": [],
   "source": [
    " class car():   \n",
    "        def __init__(self, make, name, year,):\n",
    "            self.make = make\n",
    "            self.name =name\n",
    "            self.year = year\n",
    "            self.reading = 0\n",
    "        def get_descriptive_name(self):\n",
    "            long_name ='this car was made in year '+ str(self.year) + ' and  this is a ' + self.make + ' ' + self.name\n",
    "            return long_name.title()\n",
    "        def odometer_reading(self):\n",
    "            print(\"this car has \" + str(self.reading) + \" miles on it\")\n",
    "        def update_odometer_reading(self,odometer_reading):\n",
    "            self.reading = odometer_reading"
   ]
  },
  {
   "cell_type": "code",
   "execution_count": 12,
   "metadata": {},
   "outputs": [],
   "source": [
    "class electric_car(car):\n",
    "    def __init__(self,make,name,year):\n",
    "        super().__init__(make,name,year)\n",
    "        self.battery_size  = 70\n",
    "    def describe_battery(self):\n",
    "        print(\"this car  has \" + str(self.battery_size) + \" -volts battery\" )\n",
    "    def fuel_tank(self):\n",
    "        print(\"This car has no need of fuel tank\")\n",
    "        "
   ]
  },
  {
   "cell_type": "code",
   "execution_count": 13,
   "metadata": {},
   "outputs": [],
   "source": [
    "electric_car_01 = electric_car(\"toyota\",\"aqua\",'2018')"
   ]
  },
  {
   "cell_type": "code",
   "execution_count": 14,
   "metadata": {},
   "outputs": [
    {
     "data": {
      "text/plain": [
       "'This Car Was Made In Year 2018 And  This Is A Toyota Aqua'"
      ]
     },
     "execution_count": 14,
     "metadata": {},
     "output_type": "execute_result"
    }
   ],
   "source": [
    "electric_car_01.get_descriptive_name()\n"
   ]
  },
  {
   "cell_type": "code",
   "execution_count": 15,
   "metadata": {},
   "outputs": [
    {
     "name": "stdout",
     "output_type": "stream",
     "text": [
      "this car has 0 miles on it\n",
      "this car  has 70 -volts battery\n",
      "This car has no need of fuel tank\n"
     ]
    }
   ],
   "source": [
    "electric_car_01.odometer_reading()\n",
    "electric_car_01.describe_battery()\n",
    "electric_car_01.fuel_tank()"
   ]
  },
  {
   "cell_type": "code",
   "execution_count": 7,
   "metadata": {},
   "outputs": [],
   "source": [
    "class car():   \n",
    "        def __init__(self, make, name, year,):\n",
    "            self.make = make\n",
    "            self.name =name\n",
    "            self.year = year\n",
    "            self.reading = 0\n",
    "        def get_descriptive_name(self):\n",
    "            long_name ='this car was made in year '+ str(self.year) + ' and  this is a ' + self.make + ' ' + self.name\n",
    "            return long_name.title()\n",
    "        def odometer_reading(self):\n",
    "            print(\"this car has \" + str(self.reading) + \" miles on it\")\n",
    "        def update_odometer_reading(self,odometer_reading):\n",
    "            self.reading = odometer_reading"
   ]
  },
  {
   "cell_type": "code",
   "execution_count": 8,
   "metadata": {},
   "outputs": [],
   "source": [
    "class battery:\n",
    "    def __init__(self,battery_size = 50):\n",
    "        self.battery_size = battery_size\n",
    "    def describe_battery(self):\n",
    "        print(\"this car has a \" + self.battery_size + \" -kwh battery on it\")"
   ]
  },
  {
   "cell_type": "code",
   "execution_count": 9,
   "metadata": {},
   "outputs": [],
   "source": [
    "class electric_car(car):\n",
    "    def __init__(self,make,name,year):\n",
    "        super().__init__(make,name,year)\n",
    "        self.battery = battery\n",
    "    def fuel_tank(self):\n",
    "        print(\"This car has no need of fuel tank\")"
   ]
  },
  {
   "cell_type": "code",
   "execution_count": 10,
   "metadata": {},
   "outputs": [
    {
     "data": {
      "text/plain": [
       "70"
      ]
     },
     "execution_count": 10,
     "metadata": {},
     "output_type": "execute_result"
    }
   ],
   "source": [
    "electric_car_01.battery_size"
   ]
  },
  {
   "cell_type": "code",
   "execution_count": null,
   "metadata": {},
   "outputs": [],
   "source": []
  }
 ],
 "metadata": {
  "kernelspec": {
   "display_name": "Python 3",
   "language": "python",
   "name": "python3"
  },
  "language_info": {
   "codemirror_mode": {
    "name": "ipython",
    "version": 3
   },
   "file_extension": ".py",
   "mimetype": "text/x-python",
   "name": "python",
   "nbconvert_exporter": "python",
   "pygments_lexer": "ipython3",
   "version": "3.7.6"
  }
 },
 "nbformat": 4,
 "nbformat_minor": 4
}
